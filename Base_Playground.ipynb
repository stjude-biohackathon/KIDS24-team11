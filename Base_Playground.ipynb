{
 "cells": [
  {
   "cell_type": "code",
   "execution_count": 68,
   "metadata": {},
   "outputs": [],
   "source": [
    "import numpy as np, pandas as pd, plotly.express as px, plotly.graph_objects as go\n",
    "from pathlib import Path\n",
    "\n",
    "from tests import test_data"
   ]
  },
  {
   "cell_type": "code",
   "execution_count": 65,
   "metadata": {},
   "outputs": [],
   "source": [
    "def haar_high(s,b,e):\n",
    "    return np.sqrt(1/(b - s + 1) - 1/(e - s + 1))\n",
    "\n",
    "def haar_low(s,b,e):\n",
    "    return - np.sqrt(1/(e - b) - 1/(e - s + 1))\n",
    "\n",
    "def mother_haar(s,b,e,l):\n",
    "    term1 = haar_high(s,b,e) if s <= l <= b else 0\n",
    "    term2 = haar_low(s,b,e) if b+1 <= l <= e else 0\n",
    "    return term1 + term2\n",
    "\n",
    "def basis_vector(s,b,e,l):\n",
    "    high = haar_high(s,b,e)\n",
    "    low = haar_low(s,b,e)\n",
    "    array = np.zeros(l)\n",
    "    array[b:e] = low\n",
    "    array[s:b] = high\n",
    "    return array\n",
    "\n",
    "def haar_matrix(s,e,l):\n",
    "    matrix = np.zeros((l,l))\n",
    "    for i in range(s,e):\n",
    "        matrix[i] = basis_vector(s,i,e,l)\n",
    "    return matrix\n",
    "\n",
    "def haar_transform(signal):\n",
    "    l = len(signal)\n",
    "    s = 0\n",
    "    e = l\n",
    "    matrix = haar_matrix(s,e,l)\n",
    "    return np.matmul(matrix, signal)"
   ]
  },
  {
   "cell_type": "code",
   "execution_count": 69,
   "metadata": {},
   "outputs": [
    {
     "ename": "TypeError",
     "evalue": "unsupported operand type(s) for +: 'float' and 'function'",
     "output_type": "error",
     "traceback": [
      "\u001b[0;31m---------------------------------------------------------------------------\u001b[0m",
      "\u001b[0;31mTypeError\u001b[0m                                 Traceback (most recent call last)",
      "Cell \u001b[0;32mIn[69], line 1\u001b[0m\n\u001b[0;32m----> 1\u001b[0m X \u001b[38;5;241m=\u001b[39m \u001b[43mtest_data\u001b[49m\u001b[38;5;241;43m.\u001b[39;49m\u001b[43mtest_data\u001b[49m\u001b[43m(\u001b[49m\u001b[43m)\u001b[49m\n\u001b[1;32m      2\u001b[0m X\n",
      "File \u001b[0;32m~/git_stuff/KIDS24-team11/workspace/tests/test_data.py:20\u001b[0m, in \u001b[0;36mtest_data\u001b[0;34m()\u001b[0m\n\u001b[1;32m     18\u001b[0m \u001b[38;5;28;01mdef\u001b[39;00m \u001b[38;5;21mtest_data\u001b[39m ():\n\u001b[1;32m     19\u001b[0m     cnv_string \u001b[38;5;241m=\u001b[39m [(\u001b[38;5;241m5\u001b[39m, \u001b[38;5;241m100\u001b[39m), (\u001b[38;5;241m3\u001b[39m, \u001b[38;5;241m1345\u001b[39m), (\u001b[38;5;241m4.9\u001b[39m, \u001b[38;5;241m99\u001b[39m), (\u001b[38;5;241m3.1\u001b[39m, \u001b[38;5;241m1345\u001b[39m)]\n\u001b[0;32m---> 20\u001b[0m     \u001b[38;5;28;01mreturn\u001b[39;00m \u001b[43mgenerate_test_data\u001b[49m\u001b[43m(\u001b[49m\u001b[43mcnv_string\u001b[49m\u001b[43m,\u001b[49m\u001b[43m \u001b[49m\u001b[43mnoise\u001b[49m\u001b[43m)\u001b[49m\n",
      "File \u001b[0;32m~/git_stuff/KIDS24-team11/workspace/tests/test_data.py:9\u001b[0m, in \u001b[0;36mgenerate_test_data\u001b[0;34m(cnv_string, noise)\u001b[0m\n\u001b[1;32m      7\u001b[0m cnv \u001b[38;5;241m=\u001b[39m np\u001b[38;5;241m.\u001b[39mconcatenate([np\u001b[38;5;241m.\u001b[39mrepeat (v, l) \u001b[38;5;28;01mfor\u001b[39;00m v, l \u001b[38;5;129;01min\u001b[39;00m cnv_string])\n\u001b[1;32m      8\u001b[0m signal \u001b[38;5;241m=\u001b[39m noise(np\u001b[38;5;241m.\u001b[39msum([l \u001b[38;5;28;01mfor\u001b[39;00m _, l \u001b[38;5;129;01min\u001b[39;00m cnv_string]))\n\u001b[0;32m----> 9\u001b[0m \u001b[38;5;28;01mreturn\u001b[39;00m \u001b[43msignal\u001b[49m\u001b[43m \u001b[49m\u001b[38;5;241;43m+\u001b[39;49m\u001b[43m \u001b[49m\u001b[43mnoise\u001b[49m\n",
      "\u001b[0;31mTypeError\u001b[0m: unsupported operand type(s) for +: 'float' and 'function'"
     ]
    }
   ],
   "source": [
    "X = test_data.test_data()\n",
    "X"
   ]
  },
  {
   "cell_type": "code",
   "execution_count": 66,
   "metadata": {},
   "outputs": [
    {
     "data": {
      "text/plain": [
       "array([[-0.18257419, -0.18257419, -0.18257419, -0.18257419, -0.18257419],\n",
       "       [ 0.57735027, -0.28867513, -0.28867513, -0.28867513, -0.28867513],\n",
       "       [ 0.40824829,  0.40824829, -0.40824829, -0.40824829, -0.40824829],\n",
       "       [ 0.28867513,  0.28867513,  0.28867513, -0.57735027, -0.57735027],\n",
       "       [ 0.18257419,  0.18257419,  0.18257419,  0.18257419, -0.91287093]])"
      ]
     },
     "execution_count": 66,
     "metadata": {},
     "output_type": "execute_result"
    }
   ],
   "source": [
    "haar_matrix(0,5, 5)"
   ]
  },
  {
   "cell_type": "markdown",
   "metadata": {},
   "source": [
    "# Wavelet Utility Functions"
   ]
  },
  {
   "cell_type": "code",
   "execution_count": 43,
   "metadata": {},
   "outputs": [],
   "source": [
    "def parameterize_wavelet(df):\n",
    "    df['end'] = df['length'].cumsum()\n",
    "    df['start'] = df['end'].shift(1).fillna(0)\n",
    "    return df\n",
    "\n",
    "def expand_wavelet(df):\n",
    "    return pd.DataFrame(data = np.repeat(df['value'],df['length']), columns = ['value']).reset_index(drop = True)\n",
    "\n",
    "def visualize_wavelet(df):\n",
    "    data = expand_wavelet(df)\n",
    "    px.line(data, y = 'value',line_shape='hv').show()"
   ]
  },
  {
   "cell_type": "code",
   "execution_count": null,
   "metadata": {},
   "outputs": [],
   "source": []
  }
 ],
 "metadata": {
  "kernelspec": {
   "display_name": "haar_env",
   "language": "python",
   "name": "python3"
  },
  "language_info": {
   "codemirror_mode": {
    "name": "ipython",
    "version": 3
   },
   "file_extension": ".py",
   "mimetype": "text/x-python",
   "name": "python",
   "nbconvert_exporter": "python",
   "pygments_lexer": "ipython3",
   "version": "3.11.0"
  }
 },
 "nbformat": 4,
 "nbformat_minor": 2
}
