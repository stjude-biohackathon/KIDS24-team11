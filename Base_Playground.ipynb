{
 "cells": [
  {
   "cell_type": "code",
   "execution_count": 1,
   "metadata": {},
   "outputs": [],
   "source": [
    "import numpy as np, pandas as pd, plotly.express as px, plotly.graph_objects as go\n",
    "from pathlib import Path\n",
    "\n",
    "from SJ_Haar_CNV import base_search\n",
    "from tests import test_data"
   ]
  },
  {
   "cell_type": "code",
   "execution_count": null,
   "metadata": {},
   "outputs": [],
   "source": []
  },
  {
   "cell_type": "code",
   "execution_count": 2,
   "metadata": {},
   "outputs": [
    {
     "data": {
      "text/plain": [
       "array([0, 0, 0, 1, 1, 1, 2, 2, 2])"
      ]
     },
     "execution_count": 2,
     "metadata": {},
     "output_type": "execute_result"
    }
   ],
   "source": [
    "X = np.array([0,0,0,1,1,1,2,2,2])\n",
    "X"
   ]
  },
  {
   "cell_type": "code",
   "execution_count": 3,
   "metadata": {},
   "outputs": [
    {
     "data": {
      "text/plain": [
       "np.int64(2)"
      ]
     },
     "execution_count": 3,
     "metadata": {},
     "output_type": "execute_result"
    }
   ],
   "source": [
    "first_break = base_search.choose_break(X,0,X.size)\n",
    "first_break"
   ]
  },
  {
   "cell_type": "code",
   "execution_count": 4,
   "metadata": {},
   "outputs": [
    {
     "data": {
      "text/plain": [
       "np.int64(3)"
      ]
     },
     "execution_count": 4,
     "metadata": {},
     "output_type": "execute_result"
    }
   ],
   "source": [
    "base_search.choose_break(X,first_break+1,X.size)"
   ]
  },
  {
   "cell_type": "code",
   "execution_count": 9,
   "metadata": {},
   "outputs": [
    {
     "data": {
      "text/plain": [
       "np.int64(3)"
      ]
     },
     "execution_count": 9,
     "metadata": {},
     "output_type": "execute_result"
    }
   ],
   "source": [
    "# I'm trying to manually figure out what's going on\n",
    "l = X.size\n",
    "s = first_break+1\n",
    "e = l\n",
    "matrix = base_search.haar_matrix(s,e,l)\n",
    "scores = np.matmul(X,matrix)\n",
    "best_options = np.argwhere(scores == scores.max()).flatten()\n",
    "best_options[np.abs(best_options - l //2).argmin()]"
   ]
  },
  {
   "cell_type": "code",
   "execution_count": 10,
   "metadata": {},
   "outputs": [
    {
     "data": {
      "text/plain": [
       "array([ 0.        ,  0.        ,  0.        ,  2.4754019 ,  1.63874187,\n",
       "        0.87497926, -0.65254597, -2.32586603, -4.48611293])"
      ]
     },
     "execution_count": 10,
     "metadata": {},
     "output_type": "execute_result"
    }
   ],
   "source": [
    "scores"
   ]
  },
  {
   "cell_type": "code",
   "execution_count": null,
   "metadata": {},
   "outputs": [
    {
     "data": {
      "text/plain": [
       "array([[ 0.        ,  0.        ,  0.        ,  0.        ,  0.        ,\n",
       "         0.        ,  0.        ,  0.        ,  0.        ],\n",
       "       [ 0.        ,  0.        ,  0.        ,  0.        ,  0.        ,\n",
       "         0.        ,  0.        ,  0.        ,  0.        ],\n",
       "       [ 0.        ,  0.        ,  0.        ,  0.        ,  0.        ,\n",
       "         0.        ,  0.        ,  0.        ,  0.        ],\n",
       "       [ 0.        ,  0.        ,  0.61237244, -0.20412415, -0.20412415,\n",
       "        -0.20412415, -0.20412415, -0.20412415, -0.20412415],\n",
       "       [ 0.        ,  0.        ,  0.45643546,  0.45643546, -0.27386128,\n",
       "        -0.27386128, -0.27386128, -0.27386128, -0.27386128],\n",
       "       [ 0.        ,  0.        ,  0.35355339,  0.35355339,  0.35355339,\n",
       "        -0.35355339, -0.35355339, -0.35355339, -0.35355339],\n",
       "       [ 0.        ,  0.        ,  0.27386128,  0.27386128,  0.27386128,\n",
       "         0.27386128, -0.45643546, -0.45643546, -0.45643546],\n",
       "       [ 0.        ,  0.        ,  0.20412415,  0.20412415,  0.20412415,\n",
       "         0.20412415,  0.20412415, -0.61237244, -0.61237244],\n",
       "       [ 0.        ,  0.        ,  0.13363062,  0.13363062,  0.13363062,\n",
       "         0.13363062,  0.13363062,  0.13363062, -0.93541435]])"
      ]
     },
     "execution_count": 7,
     "metadata": {},
     "output_type": "execute_result"
    }
   ],
   "source": [
    "matrix"
   ]
  },
  {
   "cell_type": "code",
   "execution_count": null,
   "metadata": {},
   "outputs": [],
   "source": []
  }
 ],
 "metadata": {
  "kernelspec": {
   "display_name": "haar_env",
   "language": "python",
   "name": "python3"
  },
  "language_info": {
   "codemirror_mode": {
    "name": "ipython",
    "version": 3
   },
   "file_extension": ".py",
   "mimetype": "text/x-python",
   "name": "python",
   "nbconvert_exporter": "python",
   "pygments_lexer": "ipython3",
   "version": "3.11.0"
  }
 },
 "nbformat": 4,
 "nbformat_minor": 2
}
