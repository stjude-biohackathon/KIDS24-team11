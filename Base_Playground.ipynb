{
 "cells": [
  {
   "cell_type": "code",
   "execution_count": 1,
   "metadata": {},
   "outputs": [],
   "source": [
    "import numpy as np, pandas as pd, plotly.express as px, plotly.graph_objects as go\n",
    "from pathlib import Path\n",
    "\n",
    "from SJ_Haar_CNV import base_search\n",
    "from tests import test_data"
   ]
  },
  {
   "cell_type": "code",
   "execution_count": null,
   "metadata": {},
   "outputs": [],
   "source": []
  },
  {
   "cell_type": "code",
   "execution_count": 2,
   "metadata": {},
   "outputs": [
    {
     "data": {
      "text/plain": [
       "array([0, 0, 0, 1, 1, 1, 2, 2, 2])"
      ]
     },
     "execution_count": 2,
     "metadata": {},
     "output_type": "execute_result"
    }
   ],
   "source": [
    "X = np.array([0,0,0,1,1,1,2,2,2])\n",
    "X"
   ]
  },
  {
   "cell_type": "code",
   "execution_count": 3,
   "metadata": {},
   "outputs": [
    {
     "data": {
      "text/plain": [
       "np.int64(8)"
      ]
     },
     "execution_count": 3,
     "metadata": {},
     "output_type": "execute_result"
    }
   ],
   "source": [
    "first_break = base_search.choose_break(X,0,X.size)\n",
    "first_break"
   ]
  },
  {
   "cell_type": "code",
   "execution_count": 10,
   "metadata": {},
   "outputs": [
    {
     "data": {
      "text/plain": [
       "np.int64(8)"
      ]
     },
     "execution_count": 10,
     "metadata": {},
     "output_type": "execute_result"
    }
   ],
   "source": [
    "base_search.choose_break(X,3,X.size)"
   ]
  },
  {
   "cell_type": "code",
   "execution_count": 5,
   "metadata": {},
   "outputs": [
    {
     "data": {
      "text/plain": [
       "np.int64(8)"
      ]
     },
     "execution_count": 5,
     "metadata": {},
     "output_type": "execute_result"
    }
   ],
   "source": [
    "# I'm trying to manually figure out what's going on\n",
    "l = X.size\n",
    "s = 0\n",
    "e = l\n",
    "matrix = base_search.haar_matrix(s,e,l)\n",
    "scores = np.matmul(matrix,X)\n",
    "best_options = np.argwhere(scores == np.nanmax(scores)).flatten() + s + 1\n",
    "best_options[np.abs(best_options - l //2).argmin()]"
   ]
  },
  {
   "cell_type": "code",
   "execution_count": 6,
   "metadata": {},
   "outputs": [
    {
     "data": {
      "text/plain": [
       "array([[ 0.63245553, -0.15811388, -0.15811388, -0.15811388, -0.15811388,\n",
       "        -0.15811388, -0.15811388, -0.15811388, -0.15811388],\n",
       "       [ 0.48304589,  0.48304589, -0.20701967, -0.20701967, -0.20701967,\n",
       "        -0.20701967, -0.20701967, -0.20701967, -0.20701967],\n",
       "       [ 0.38729833,  0.38729833,  0.38729833, -0.25819889, -0.25819889,\n",
       "        -0.25819889, -0.25819889, -0.25819889, -0.25819889],\n",
       "       [ 0.31622777,  0.31622777,  0.31622777,  0.31622777, -0.31622777,\n",
       "        -0.31622777, -0.31622777, -0.31622777, -0.31622777],\n",
       "       [ 0.25819889,  0.25819889,  0.25819889,  0.25819889,  0.25819889,\n",
       "        -0.38729833, -0.38729833, -0.38729833, -0.38729833],\n",
       "       [ 0.20701967,  0.20701967,  0.20701967,  0.20701967,  0.20701967,\n",
       "         0.20701967, -0.48304589, -0.48304589, -0.48304589],\n",
       "       [ 0.15811388,  0.15811388,  0.15811388,  0.15811388,  0.15811388,\n",
       "         0.15811388,  0.15811388, -0.63245553, -0.63245553],\n",
       "       [ 0.10540926,  0.10540926,  0.10540926,  0.10540926,  0.10540926,\n",
       "         0.10540926,  0.10540926,  0.10540926, -0.9486833 ]])"
      ]
     },
     "execution_count": 6,
     "metadata": {},
     "output_type": "execute_result"
    }
   ],
   "source": [
    "matrix"
   ]
  },
  {
   "cell_type": "code",
   "execution_count": 7,
   "metadata": {},
   "outputs": [
    {
     "data": {
      "text/plain": [
       "(8, 9)"
      ]
     },
     "execution_count": 7,
     "metadata": {},
     "output_type": "execute_result"
    }
   ],
   "source": [
    "matrix.shape"
   ]
  },
  {
   "cell_type": "code",
   "execution_count": 8,
   "metadata": {},
   "outputs": [
    {
     "data": {
      "text/plain": [
       "array([-1.42302495, -1.86317701, -2.32379001, -2.21359436, -2.19469056,\n",
       "       -2.27721635, -1.73925271, -1.15950181])"
      ]
     },
     "execution_count": 8,
     "metadata": {},
     "output_type": "execute_result"
    }
   ],
   "source": [
    "scores"
   ]
  },
  {
   "cell_type": "code",
   "execution_count": 9,
   "metadata": {},
   "outputs": [
    {
     "data": {
      "text/plain": [
       "array([8])"
      ]
     },
     "execution_count": 9,
     "metadata": {},
     "output_type": "execute_result"
    }
   ],
   "source": [
    "best_options"
   ]
  },
  {
   "cell_type": "code",
   "execution_count": null,
   "metadata": {},
   "outputs": [],
   "source": []
  },
  {
   "cell_type": "code",
   "execution_count": null,
   "metadata": {},
   "outputs": [],
   "source": []
  }
 ],
 "metadata": {
  "kernelspec": {
   "display_name": "haar_env",
   "language": "python",
   "name": "python3"
  },
  "language_info": {
   "codemirror_mode": {
    "name": "ipython",
    "version": 3
   },
   "file_extension": ".py",
   "mimetype": "text/x-python",
   "name": "python",
   "nbconvert_exporter": "python",
   "pygments_lexer": "ipython3",
   "version": "3.11.0"
  }
 },
 "nbformat": 4,
 "nbformat_minor": 2
}
