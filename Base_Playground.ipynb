{
 "cells": [
  {
   "cell_type": "code",
   "execution_count": 1,
   "metadata": {},
   "outputs": [],
   "source": [
    "import numpy as np, pandas as pd, plotly.express as px, plotly.graph_objects as go\n",
    "from pathlib import Path\n",
    "\n",
    "from SJ_Haar_CNV import base_search\n",
    "from tests import test_data"
   ]
  },
  {
   "cell_type": "code",
   "execution_count": 2,
   "metadata": {},
   "outputs": [
    {
     "data": {
      "text/plain": [
       "array([5, 5, 5, 5, 5, 5, 5, 5, 5, 5, 5, 5, 5, 5, 5, 5, 5, 5, 5, 5, 5, 5,\n",
       "       5, 5, 5, 5, 5, 5, 5, 5, 5, 5, 5, 5, 5, 5, 5, 5, 5, 5, 5, 5, 5, 5,\n",
       "       5, 5, 5, 5, 5, 5, 5, 5, 5, 5, 5, 5, 5, 5, 5, 5, 5, 5, 5, 5, 5, 5,\n",
       "       5, 5, 5, 5, 5, 5, 5, 5, 5, 5, 5, 5, 5, 5, 5, 5, 5, 5, 5, 5, 5, 5,\n",
       "       5, 5, 5, 5, 5, 5, 5, 5, 5, 5, 5, 5, 5, 5, 5, 5, 5, 5, 5, 5, 5, 5,\n",
       "       5, 5, 5, 5, 5, 5, 5, 5, 5, 5, 5, 5, 5, 5, 5, 5, 5, 5, 5, 5, 7, 7,\n",
       "       7, 7, 7, 7, 7, 7, 7, 7, 7, 7, 7, 7, 7, 7, 7, 7, 7, 7, 7, 7, 7, 7,\n",
       "       7, 7, 7, 7, 7, 7, 7, 7, 7, 7, 7, 7, 7, 7, 7, 7, 7, 7, 7, 7, 7, 7,\n",
       "       7, 7, 7, 7, 7, 7, 7, 7, 7, 7, 7, 7, 7, 7, 7, 7, 7, 7, 7, 7, 7, 7,\n",
       "       7, 7, 7, 7, 7, 7, 7, 7, 7, 7, 7, 7, 7, 7, 7, 7, 7, 7, 7, 7, 7, 7,\n",
       "       7, 7, 7, 7, 7, 7, 7, 7, 7, 7, 7, 7, 7, 7, 7, 7, 7, 7, 7, 7, 7, 7,\n",
       "       7, 7, 7, 7, 7, 7, 7, 7, 7, 7, 7, 7, 7, 7, 7, 7, 7, 7, 7, 7, 7, 7,\n",
       "       7, 7, 7, 7, 7, 7, 7, 7, 7, 7, 7, 7, 7, 7, 7, 7, 7, 7, 7, 7, 7, 7,\n",
       "       7, 7, 7, 7, 7, 7, 7, 7, 7, 7, 7, 7, 7, 7, 7, 7, 7, 7, 7, 7, 7, 7,\n",
       "       7, 7, 7, 7, 7, 7, 7, 7, 7, 7, 7, 7, 5, 5, 5, 5, 5, 5, 5, 5, 5, 5,\n",
       "       5, 5, 5, 5, 5, 5, 5, 5, 5, 5, 5, 5, 5, 5, 5, 5, 5, 5, 5, 5, 5, 5,\n",
       "       5, 5, 5, 5, 5, 5, 5, 5, 5, 5, 5, 5, 5, 5, 5, 5, 5, 5, 5, 5, 5, 5,\n",
       "       5, 5, 5, 5, 5, 5, 5, 5, 5, 5, 5, 5, 5, 5, 5, 5, 5, 5, 5, 5, 5, 5,\n",
       "       5, 5, 5, 5, 5, 5, 5, 5, 5, 5, 5, 5, 5, 5, 5, 5, 5, 5, 5, 5, 5, 5,\n",
       "       5, 5])"
      ]
     },
     "execution_count": 2,
     "metadata": {},
     "output_type": "execute_result"
    }
   ],
   "source": [
    "X = np.concatenate([np.repeat (5,130), np.repeat (7,190), np.repeat(5,100)])\n",
    "X"
   ]
  },
  {
   "cell_type": "code",
   "execution_count": 3,
   "metadata": {},
   "outputs": [
    {
     "data": {
      "text/plain": [
       "np.int64(130)"
      ]
     },
     "execution_count": 3,
     "metadata": {},
     "output_type": "execute_result"
    }
   ],
   "source": [
    "first_break = base_search.choose_break(X,0,X.size)\n",
    "first_break"
   ]
  },
  {
   "cell_type": "code",
   "execution_count": 4,
   "metadata": {},
   "outputs": [
    {
     "data": {
      "text/plain": [
       "[0,\n",
       " 0,\n",
       " 0,\n",
       " (np.float64(0.07251407362812771), np.int64(130)),\n",
       " (np.float64(-0.032756357397533555), np.int64(290))]"
      ]
     },
     "execution_count": 4,
     "metadata": {},
     "output_type": "execute_result"
    }
   ],
   "source": [
    "test = base_search.create_basis_form(0, first_break, X.size)\n",
    "test"
   ]
  },
  {
   "cell_type": "code",
   "execution_count": 5,
   "metadata": {},
   "outputs": [
    {
     "data": {
      "text/plain": [
       "np.int64(7)"
      ]
     },
     "execution_count": 5,
     "metadata": {},
     "output_type": "execute_result"
    }
   ],
   "source": [
    "second_break_one = base_search.choose_break(X,0,first_break)\n",
    "second_break_one"
   ]
  },
  {
   "cell_type": "code",
   "execution_count": 6,
   "metadata": {},
   "outputs": [
    {
     "data": {
      "text/plain": [
       "np.int64(190)"
      ]
     },
     "execution_count": 6,
     "metadata": {},
     "output_type": "execute_result"
    }
   ],
   "source": [
    "second_break_two = base_search.choose_break(X,first_break,X.size)\n",
    "second_break_two"
   ]
  },
  {
   "cell_type": "code",
   "execution_count": 7,
   "metadata": {},
   "outputs": [],
   "source": [
    "# I'm trying to manually figure out what's going on\n",
    "p0 = .95\n",
    "s = 0\n",
    "e = first_break\n",
    "offset, matrix, scores, best_options, man_break, man_basis = base_search.choose_break(X,s, e, p0 = p0, debug = True)"
   ]
  },
  {
   "cell_type": "code",
   "execution_count": 8,
   "metadata": {},
   "outputs": [
    {
     "data": {
      "text/plain": [
       "6"
      ]
     },
     "execution_count": 8,
     "metadata": {},
     "output_type": "execute_result"
    }
   ],
   "source": [
    "offset"
   ]
  },
  {
   "cell_type": "code",
   "execution_count": 9,
   "metadata": {},
   "outputs": [
    {
     "data": {
      "text/plain": [
       "(117, 130)"
      ]
     },
     "execution_count": 9,
     "metadata": {},
     "output_type": "execute_result"
    }
   ],
   "source": [
    "matrix[offset:matrix.shape[0]-offset].shape"
   ]
  },
  {
   "cell_type": "code",
   "execution_count": 10,
   "metadata": {},
   "outputs": [
    {
     "data": {
      "text/plain": [
       "(129, 130)"
      ]
     },
     "execution_count": 10,
     "metadata": {},
     "output_type": "execute_result"
    }
   ],
   "source": [
    "matrix.shape"
   ]
  },
  {
   "cell_type": "code",
   "execution_count": 11,
   "metadata": {},
   "outputs": [
    {
     "data": {
      "text/plain": [
       "array([1.71293908, 1.60839612, 1.51959215, 1.44287476, 1.37567934,\n",
       "       1.31614484, 1.26288344, 1.21483619, 1.17117902, 1.13125971,\n",
       "       1.09455434, 1.0606365 , 1.02915514, 0.99981823, 0.97238055,\n",
       "       0.94663447, 0.92240283, 0.89953338, 0.87789451, 0.8573717 ,\n",
       "       0.83786481, 0.81928583, 0.80155701, 0.7846094 , 0.76838161,\n",
       "       0.75281875, 0.73787155, 0.72349569, 0.70965115, 0.69630165,\n",
       "       0.68341425, 0.67095898, 0.65890842, 0.64723752, 0.63592327,\n",
       "       0.62494452, 0.61428179, 0.6039171 , 0.59383379, 0.58401644,\n",
       "       0.57445073, 0.56512334, 0.55602186, 0.5471347 , 0.53845105,\n",
       "       0.52996077, 0.52165436, 0.51352289, 0.50555799, 0.49775174,\n",
       "       0.49009671, 0.48258587, 0.47521255, 0.46797048, 0.46085368,\n",
       "       0.45385648, 0.4469735 , 0.4401996 , 0.43352991, 0.42695976,\n",
       "       0.42048468, 0.41410041, 0.40780285, 0.40158807, 0.39545231,\n",
       "       0.38939191, 0.38340337, 0.3774833 , 0.37162841, 0.36583552,\n",
       "       0.36010155, 0.35442348, 0.34879837, 0.34322337, 0.33769565,\n",
       "       0.33221247, 0.3267711 , 0.32136887, 0.31600313, 0.31067125,\n",
       "       0.30537062, 0.30009862, 0.29485265, 0.28963007, 0.28442826,\n",
       "       0.27924453, 0.27407618, 0.26892043, 0.26377447, 0.25863539,\n",
       "       0.25350019, 0.24836577, 0.24322892, 0.23808624, 0.23293421,\n",
       "       0.22776908, 0.22258688, 0.2173834 , 0.2121541 , 0.20689409,\n",
       "       0.20159808, 0.1962603 , 0.19087439, 0.18543336, 0.17992941,\n",
       "       0.17435379, 0.16869662, 0.16294665, 0.15709089, 0.15111426,\n",
       "       0.14499901, 0.13872397, 0.13226352, 0.12558613, 0.11865217,\n",
       "       0.11141067, 0.10379407])"
      ]
     },
     "execution_count": 11,
     "metadata": {},
     "output_type": "execute_result"
    }
   ],
   "source": [
    "scores"
   ]
  },
  {
   "cell_type": "code",
   "execution_count": 12,
   "metadata": {},
   "outputs": [
    {
     "data": {
      "text/plain": [
       "array([7])"
      ]
     },
     "execution_count": 12,
     "metadata": {},
     "output_type": "execute_result"
    }
   ],
   "source": [
    "best_options"
   ]
  },
  {
   "cell_type": "code",
   "execution_count": 13,
   "metadata": {},
   "outputs": [
    {
     "name": "stdout",
     "output_type": "stream",
     "text": [
      "todo: 0, done: 0, len signal: 420\n",
      "todo: 1, done: 1, len signal: 130\n",
      "todo: 2, done: 2, len signal: 289\n",
      "todo: 2, done: 3, len signal: 122\n",
      "todo: 3, done: 4, len signal: 58\n",
      "todo: 4, done: 5, len signal: 230\n",
      "todo: 4, done: 6, len signal: 122\n",
      "todo: 2, done: 6, len signal: 185\n",
      "todo: 2, done: 7, len signal: 289\n",
      "todo: 1, done: 7, len signal: 122\n",
      "todo: 2, done: 8, len signal: 62\n",
      "todo: 2, done: 9, len signal: 118\n",
      "todo: 2, done: 10, len signal: 184\n",
      "todo: 2, done: 11, len signal: 119\n",
      "todo: 3, done: 12, len signal: 120\n",
      "todo: 4, done: 13, len signal: 63\n",
      "todo: 4, done: 14, len signal: 119\n",
      "todo: 2, done: 14, len signal: 117\n",
      "todo: 2, done: 15, len signal: 184\n",
      "todo: 0, done: 15, len signal: 118\n",
      "todo: 0, done: 16, len signal: 118\n"
     ]
    },
    {
     "name": "stderr",
     "output_type": "stream",
     "text": [
      "/home/tmichael/git_stuff/KIDS24-team11/SJ_Haar_CNV/base_search.py:9: RuntimeWarning: divide by zero encountered in scalar divide\n",
      "  return np.sqrt(1/(b - s + 1) - 1/(e - s + 1))\n",
      "/home/tmichael/git_stuff/KIDS24-team11/SJ_Haar_CNV/base_search.py:9: RuntimeWarning: invalid value encountered in sqrt\n",
      "  return np.sqrt(1/(b - s + 1) - 1/(e - s + 1))\n",
      "/home/tmichael/git_stuff/KIDS24-team11/SJ_Haar_CNV/base_search.py:15: RuntimeWarning: invalid value encountered in sqrt\n",
      "  return - np.sqrt(1/(e - b) - 1/(e - s + 1))\n"
     ]
    },
    {
     "data": {
      "text/plain": [
       "[[0,\n",
       "  0,\n",
       "  0,\n",
       "  (np.float64(0.07251407362812771), np.int64(130)),\n",
       "  (np.float64(-0.032756357397533555), np.int64(290))],\n",
       " [0,\n",
       "  0,\n",
       "  0,\n",
       "  (np.float64(0.3425878167911703), np.int64(7)),\n",
       "  (np.float64(-0.022282134425441996), np.int64(123))],\n",
       " [0,\n",
       "  0,\n",
       "  np.int64(131),\n",
       "  (np.float64(0.11619327295632874), np.int64(189)),\n",
       "  (np.float64(-0.029677069716118595), np.int64(100))],\n",
       " [0,\n",
       "  0,\n",
       "  np.int64(8),\n",
       "  (np.float64(inf), np.int64(7)),\n",
       "  (np.float64(-0.0), np.int64(115))],\n",
       " [0,\n",
       "  0,\n",
       "  np.int64(131),\n",
       "  (np.float64(nan), np.int64(3)),\n",
       "  (np.float64(nan), np.int64(55))],\n",
       " [0,\n",
       "  0,\n",
       "  np.int64(190),\n",
       "  (np.float64(nan), np.int64(130)),\n",
       "  (np.float64(nan), np.int64(100))],\n",
       " [0,\n",
       "  0,\n",
       "  np.int64(4),\n",
       "  (np.float64(0.052476063255464424), np.int64(126)),\n",
       "  (np.float64(-0.10245326635590671), np.int64(59))],\n",
       " [0,\n",
       "  0,\n",
       "  np.int64(4),\n",
       "  (np.float64(0.49180272335478886), np.int64(7)),\n",
       "  (np.float64(-0.016531183978312193), np.int64(115))],\n",
       " [0,\n",
       "  0,\n",
       "  np.int64(127),\n",
       "  (np.float64(nan), np.int64(4)),\n",
       "  (np.float64(nan), np.int64(58))],\n",
       " [0,\n",
       "  0,\n",
       "  np.int64(8),\n",
       "  (np.float64(nan), np.int64(6)),\n",
       "  (np.float64(nan), np.int64(112))],\n",
       " [0,\n",
       "  0,\n",
       "  np.int64(5),\n",
       "  (np.float64(0.05347015433409511), np.int64(125)),\n",
       "  (np.float64(-0.10109201053789857), np.int64(59))],\n",
       " [0,\n",
       "  0,\n",
       "  np.int64(7),\n",
       "  (np.float64(inf), np.int64(6)),\n",
       "  (np.float64(-0.0), np.int64(113))],\n",
       " [0,\n",
       "  0,\n",
       "  np.int64(5),\n",
       "  (np.float64(0.5701481127947509), np.int64(7)),\n",
       "  (np.float64(-0.01449529100325637), np.int64(113))],\n",
       " [0,\n",
       "  0,\n",
       "  np.int64(126),\n",
       "  (np.float64(nan), np.int64(4)),\n",
       "  (np.float64(nan), np.int64(59))],\n",
       " [0,\n",
       "  0,\n",
       "  np.int64(8),\n",
       "  (np.float64(nan), np.int64(6)),\n",
       "  (np.float64(nan), np.int64(111))],\n",
       " [0,\n",
       "  0,\n",
       "  np.int64(7),\n",
       "  (np.float64(inf), np.int64(6)),\n",
       "  (np.float64(-0.0), np.int64(112))]]"
      ]
     },
     "execution_count": 13,
     "metadata": {},
     "output_type": "execute_result"
    }
   ],
   "source": [
    "base_search.generate_haar_basis(X, p0=.95, length = 20, debug = True)"
   ]
  },
  {
   "cell_type": "code",
   "execution_count": null,
   "metadata": {},
   "outputs": [],
   "source": []
  }
 ],
 "metadata": {
  "kernelspec": {
   "display_name": "haar_env",
   "language": "python",
   "name": "python3"
  },
  "language_info": {
   "codemirror_mode": {
    "name": "ipython",
    "version": 3
   },
   "file_extension": ".py",
   "mimetype": "text/x-python",
   "name": "python",
   "nbconvert_exporter": "python",
   "pygments_lexer": "ipython3",
   "version": "3.11.0"
  }
 },
 "nbformat": 4,
 "nbformat_minor": 2
}
